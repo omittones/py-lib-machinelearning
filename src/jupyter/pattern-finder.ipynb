{
 "cells": [
  {
   "cell_type": "code",
   "execution_count": 32,
   "metadata": {},
   "outputs": [
    {
     "name": "stdout",
     "output_type": "stream",
     "text": [
      "Reading D:\\Code\\cs-lib-bitcoin-predictions\\omittones\\datasets\\forex\\EURUSD_Candlestick_1_m_BID_01.01.2005-31.12.2005.csv\n",
      "Reading D:\\Code\\cs-lib-bitcoin-predictions\\omittones\\datasets\\forex\\EURUSD_Candlestick_1_m_BID_01.01.2006-31.12.2006.csv\n",
      "Reading D:\\Code\\cs-lib-bitcoin-predictions\\omittones\\datasets\\forex\\EURUSD_Candlestick_1_m_BID_01.01.2007-31.12.2007.csv\n",
      "Reading D:\\Code\\cs-lib-bitcoin-predictions\\omittones\\datasets\\forex\\EURUSD_Candlestick_1_m_BID_01.01.2008-31.12.2008.csv\n",
      "Reading D:\\Code\\cs-lib-bitcoin-predictions\\omittones\\datasets\\forex\\EURUSD_Candlestick_1_m_BID_01.01.2009-31.12.2009.csv\n",
      "Reading D:\\Code\\cs-lib-bitcoin-predictions\\omittones\\datasets\\forex\\EURUSD_Candlestick_1_m_BID_01.01.2010-31.12.2010.csv\n",
      "Reading D:\\Code\\cs-lib-bitcoin-predictions\\omittones\\datasets\\forex\\EURUSD_Candlestick_1_m_BID_01.01.2011-31.12.2011.csv\n",
      "Reading D:\\Code\\cs-lib-bitcoin-predictions\\omittones\\datasets\\forex\\EURUSD_Candlestick_1_m_BID_01.01.2012-31.12.2012.csv\n",
      "Reading D:\\Code\\cs-lib-bitcoin-predictions\\omittones\\datasets\\forex\\EURUSD_Candlestick_1_m_BID_01.01.2013-31.12.2013.csv\n",
      "Reading D:\\Code\\cs-lib-bitcoin-predictions\\omittones\\datasets\\forex\\EURUSD_Candlestick_1_m_BID_01.01.2014-31.12.2014.csv\n",
      "Reading D:\\Code\\cs-lib-bitcoin-predictions\\omittones\\datasets\\forex\\EURUSD_Candlestick_1_m_BID_01.01.2015-31.12.2015.csv\n",
      "Reading D:\\Code\\cs-lib-bitcoin-predictions\\omittones\\datasets\\forex\\EURUSD_Candlestick_1_m_BID_01.01.2016-31.12.2016.csv\n",
      "Reading D:\\Code\\cs-lib-bitcoin-predictions\\omittones\\datasets\\forex\\EURUSD_Candlestick_1_m_BID_01.01.2017-31.12.2017.csv\n",
      "Read 37925280 rows.\n"
     ]
    }
   ],
   "source": [
    "import pandas as pd\n",
    "import glob\n",
    "\n",
    "path = r'D:\\Code\\cs-lib-bitcoin-predictions\\omittones\\datasets\\forex'\n",
    "all_files = glob.glob(path + \"/*.csv\")\n",
    "\n",
    "li = []\n",
    "for filename in all_files:\n",
    "    print(f'Reading {filename}')\n",
    "    df = pd.read_csv(filename, index_col=None, header=0, parse_dates=True)\n",
    "    df['Gmt time'] = pd.to_datetime(df['Gmt time'], format='%d.%m.%Y %H:%M:%S.%f')\n",
    "    li.append(df)\n",
    "frame = pd.concat(li, axis=0, ignore_index=True)\n",
    "print(f'Read {frame.size} rows.')"
   ]
  },
  {
   "cell_type": "code",
   "execution_count": null,
   "metadata": {},
   "outputs": [],
   "source": []
  }
 ],
 "metadata": {
  "kernelspec": {
   "display_name": "Python 3",
   "language": "python",
   "name": "python3"
  },
  "language_info": {
   "codemirror_mode": {
    "name": "ipython",
    "version": 3
   },
   "file_extension": ".py",
   "mimetype": "text/x-python",
   "name": "python",
   "nbconvert_exporter": "python",
   "pygments_lexer": "ipython3",
   "version": "3.6.8"
  }
 },
 "nbformat": 4,
 "nbformat_minor": 2
}
